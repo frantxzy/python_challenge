{
 "cells": [
  {
   "cell_type": "code",
   "execution_count": 20,
   "id": "3ec5814c",
   "metadata": {},
   "outputs": [
    {
     "ename": "SyntaxError",
     "evalue": "cannot assign to operator (2992946694.py, line 14)",
     "output_type": "error",
     "traceback": [
      "\u001b[1;36m  File \u001b[1;32m\"C:\\Users\\frant\\AppData\\Local\\Temp\\ipykernel_1240\\2992946694.py\"\u001b[1;36m, line \u001b[1;32m14\u001b[0m\n\u001b[1;33m    total-months = 0\u001b[0m\n\u001b[1;37m    ^\u001b[0m\n\u001b[1;31mSyntaxError\u001b[0m\u001b[1;31m:\u001b[0m cannot assign to operator\n"
     ]
    }
   ],
   "source": [
    "# Dependencies\n",
    "\n",
    "import csv\n",
    "\n",
    "import os\n",
    "\n",
    "\n",
    "\n",
    "\n",
    "# file to load and output\n",
    "\n",
    "file_to_load = os.path.join(\".\", \"Resources\", \"budget_data\")\n",
    "                            \n",
    "total-months = 0\n",
    "total_net = 0                          \n",
    "                            \n",
    "file_to_output = os.path.join(\".\", \"budget_analysis.txt\")\n",
    "\n",
    "\n",
    "# with open(file to load) as financial data:\n",
    "\n",
    "\n",
    "\n",
    "reader - cav. reader( financial data)\n",
    "\n",
    "# Read the header row\n",
    "\n",
    "header = next (reader )\n",
    "\n",
    "\n",
    "\n",
    "# print (f\"Header: (header] \")\n",
    "\n",
    "first row = next (reader)\n",
    "\n",
    "total net + = int(first_row[1])\n",
    "\n",
    "\n",
    "\n",
    "for row In reader:\n",
    "\n",
    "# total months = total months +\n",
    "\n",
    "total months += 1 total _net += int(row[1])\n",
    "\n",
    "# print (row)\n",
    "\n",
    "\n",
    "\n",
    "45 output - (\n",
    "\n",
    "f\"Financial Analysis\\n\"\n",
    "f\"--------------------------\\n\"\n",
    "f\"Total Months: {total months} \\n\"\n",
    "f\"Total: $ {total_net}\"\n",
    ")\n",
    " print (output)\n",
    "\n",
    "\n",
    "\n",
    "\n",
    "                      \n",
    "\n",
    "reader = cs.reader (financial data)"
   ]
  },
  {
   "cell_type": "code",
   "execution_count": null,
   "id": "0ace0bb7",
   "metadata": {},
   "outputs": [],
   "source": []
  },
  {
   "cell_type": "code",
   "execution_count": null,
   "id": "6deff1a6",
   "metadata": {},
   "outputs": [],
   "source": []
  }
 ],
 "metadata": {
  "kernelspec": {
   "display_name": "Python 3 (ipykernel)",
   "language": "python",
   "name": "python3"
  },
  "language_info": {
   "codemirror_mode": {
    "name": "ipython",
    "version": 3
   },
   "file_extension": ".py",
   "mimetype": "text/x-python",
   "name": "python",
   "nbconvert_exporter": "python",
   "pygments_lexer": "ipython3",
   "version": "3.9.13"
  }
 },
 "nbformat": 4,
 "nbformat_minor": 5
}
