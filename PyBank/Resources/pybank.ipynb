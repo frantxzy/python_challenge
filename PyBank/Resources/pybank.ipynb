{
 "cells": [
  {
   "cell_type": "code",
   "execution_count": 58,
   "id": "c05fad5f",
   "metadata": {},
   "outputs": [
    {
     "ename": "FileNotFoundError",
     "evalue": "[Errno 2] No such file or directory: '.\\\\Resources\\\\budget_data'",
     "output_type": "error",
     "traceback": [
      "\u001b[1;31m---------------------------------------------------------------------------\u001b[0m",
      "\u001b[1;31mFileNotFoundError\u001b[0m                         Traceback (most recent call last)",
      "\u001b[1;32m~\\AppData\\Local\\Temp\\ipykernel_1240\\4054181254.py\u001b[0m in \u001b[0;36m<module>\u001b[1;34m\u001b[0m\n\u001b[0;32m     19\u001b[0m \u001b[1;31m# Read the csv file and convert it into a list\u001b[0m\u001b[1;33m\u001b[0m\u001b[1;33m\u001b[0m\u001b[0m\n\u001b[0;32m     20\u001b[0m \u001b[1;33m\u001b[0m\u001b[0m\n\u001b[1;32m---> 21\u001b[1;33m \u001b[1;32mwith\u001b[0m \u001b[0mopen\u001b[0m\u001b[1;33m(\u001b[0m\u001b[0mfile_to_load\u001b[0m\u001b[1;33m)\u001b[0m \u001b[1;32mas\u001b[0m \u001b[0mfinancial_data\u001b[0m\u001b[1;33m:\u001b[0m\u001b[1;33m\u001b[0m\u001b[1;33m\u001b[0m\u001b[0m\n\u001b[0m\u001b[0;32m     22\u001b[0m \u001b[1;33m\u001b[0m\u001b[0m\n\u001b[0;32m     23\u001b[0m \u001b[1;33m\u001b[0m\u001b[0m\n",
      "\u001b[1;31mFileNotFoundError\u001b[0m: [Errno 2] No such file or directory: '.\\\\Resources\\\\budget_data'"
     ]
    }
   ],
   "source": [
    "# Dependencies\n",
    "\n",
    "import csv\n",
    "\n",
    "import os\n",
    "\n",
    "\n",
    "# file to load and output\n",
    "\n",
    "file_to_load = os.path.join(\".\", \"Resources\", \"budget_data\")\n",
    "                            \n",
    "total_months = 0\n",
    "total_net = 0                          \n",
    "                            \n",
    "file_to_output = os.path.join(\".\", \"budget_analysis.txt\")\n",
    "\n",
    "# Read the csv file and convert it into a list \n",
    "\n",
    "with open(file_to_load) as financial_data:\n",
    "\n",
    "\n",
    "     reader = csv.reader(financial_data)\n",
    "\n",
    "# Read the header row\n",
    "\n",
    "header = next (reader )\n",
    "\n",
    "\n",
    "\n",
    "# print (f\"Header: (header] \")\n",
    "\n",
    "first_row = next (reader)\n",
    "\n",
    "total_net += int(first_row[1])\n",
    "\n",
    "\n",
    "\n",
    "for row in reader :\n",
    "\n",
    "     # total months = total months +1\n",
    "    total_months += 1 \n",
    "    total_net += int(first_row[1])\n",
    "\n",
    "       # print (row)\n",
    "\n",
    "\n",
    "\n",
    "output = (\n",
    "\n",
    "f\"Financial Analysis\\n\"\n",
    "f\"--------------------------\\n\"\n",
    "f\"Total Months: {total_months} \\n\"\n",
    "f\"Total: $ {total_net}\"\n",
    ")\n",
    "\n",
    "print (output)\n",
    "\n",
    "\n",
    "\n",
    "\n",
    "                      \n",
    "reader = csv.reader(financial_data)\n"
   ]
  },
  {
   "cell_type": "code",
   "execution_count": null,
   "id": "e86d72c8",
   "metadata": {},
   "outputs": [],
   "source": []
  },
  {
   "cell_type": "code",
   "execution_count": null,
   "id": "9fa78a8a",
   "metadata": {},
   "outputs": [],
   "source": []
  },
  {
   "cell_type": "code",
   "execution_count": null,
   "id": "e2798572",
   "metadata": {},
   "outputs": [],
   "source": []
  }
 ],
 "metadata": {
  "kernelspec": {
   "display_name": "Python 3 (ipykernel)",
   "language": "python",
   "name": "python3"
  },
  "language_info": {
   "codemirror_mode": {
    "name": "ipython",
    "version": 3
   },
   "file_extension": ".py",
   "mimetype": "text/x-python",
   "name": "python",
   "nbconvert_exporter": "python",
   "pygments_lexer": "ipython3",
   "version": "3.9.13"
  }
 },
 "nbformat": 4,
 "nbformat_minor": 5
}
